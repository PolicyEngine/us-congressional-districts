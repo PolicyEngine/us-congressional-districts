{
 "cells": [
  {
   "cell_type": "markdown",
   "id": "532fc034",
   "metadata": {},
   "source": [
    "# Overview\n",
    "\n",
    "This notebook demonstrates the calibrated district-level weights."
   ]
  },
  {
   "cell_type": "code",
   "execution_count": null,
   "id": "d8e9f712",
   "metadata": {},
   "outputs": [],
   "source": [
    "import pandas as pd\n",
    "import h5py\n",
    "from policyengine_us import Microsimulation\n",
    "from us_congressional_districts.calibrate import get_dataset, create_district_metric_matrix, create_target_matrix, get_data_directory\n",
    "\n",
    "data_folder = get_data_directory()\n",
    "ages_district = pd.read_csv(\n",
    "    data_folder / \"input\" / \"demographics\" / \"age_district.csv\"\n",
    ")\n",
    "\n",
    "ages_state = pd.read_csv(\n",
    "    data_folder / \"input\" / \"demographics\" / \"age_state.csv\"\n",
    ")\n",
    "\n",
    "ages_national = pd.read_csv(\n",
    "    data_folder / \"input\" / \"demographics\" / \"age_national.csv\"\n",
    ")\n",
    "dataset = get_dataset(\"cps_2023\", 2023)\n",
    "# the metrics matrix\n",
    "matrix = create_district_metric_matrix(dataset, ages_district, 2023)\n",
    "y = create_target_matrix(ages_district)\n",
    "\n",
    "with h5py.File(\n",
    "    data_folder / \"output\" / \"congressional_district_weights.h5\", \"r\"\n",
    ") as f:\n",
    "    # the weights matrix\n",
    "    district_weights = f[\"2022\"][:]\n",
    "\n",
    "districts = pd.read_csv(data_folder / \"input\" / \"geographies\" / \"districts.csv\")\n",
    "\n",
    "sim = Microsimulation(dataset=dataset)\n",
    "household_market_income = sim.calculate(\"household_market_income\", 2023).values\n",
    "household_count_people = sim.calculate(\"household_count_people\", 2023).values\n",
    "\n",
    "per_capita_income_by_district = (district_weights @ household_market_income) / (district_weights @ household_count_people)\n",
    "\n",
    "import plotly.express as px\n",
    "\n",
    "df = districts.copy()\n",
    "df = df[:435]\n",
    "df[\"per_capita_income\"] = per_capita_income_by_district\n",
    "\n",
    "px.scatter(\n",
    "    df,\n",
    "    x=\"x\",\n",
    "    y=\"y\",\n",
    "    color=\"per_capita_income\",\n",
    ")"
   ]
  }
 ],
 "metadata": {
  "kernelspec": {
   "display_name": ".venv",
   "language": "python",
   "name": "python3"
  },
  "language_info": {
   "codemirror_mode": {
    "name": "ipython",
    "version": 3
   },
   "file_extension": ".py",
   "mimetype": "text/x-python",
   "name": "python",
   "nbconvert_exporter": "python",
   "pygments_lexer": "ipython3",
   "version": "3.11.11"
  }
 },
 "nbformat": 4,
 "nbformat_minor": 5
}
